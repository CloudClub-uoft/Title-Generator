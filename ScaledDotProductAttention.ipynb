{
 "cells": [
  {
   "cell_type": "markdown",
   "metadata": {},
   "source": [
    "# Scaled Dot Product Attention"
   ]
  },
  {
   "cell_type": "code",
   "execution_count": 1,
   "metadata": {},
   "outputs": [],
   "source": [
    "import torch\n",
    "import torch.nn as nn\n",
    "import torch.nn.functional as F\n",
    "import numpy as np\n",
    "from math import sqrt"
   ]
  },
  {
   "cell_type": "code",
   "execution_count": 2,
   "metadata": {},
   "outputs": [],
   "source": [
    "def attention(q, k, v, d_k, dropout=None):\n",
    "    scaled_dot = torch.matmul(q, k.transpose(-2, -1)) / sqrt(d_k)\n",
    "    scaled_dot = F.softmax(scaled_dot, dim=-1)\n",
    "    if dropout is not None:\n",
    "        scaled_dot = dropout(scaled_dot)\n",
    "    output =  torch.matmul(scaled_dot, v)\n",
    "    return output"
   ]
  },
  {
   "cell_type": "code",
   "execution_count": 4,
   "metadata": {},
   "outputs": [],
   "source": [
    "q = torch.tensor([[0, 10, 0]], dtype=torch.float32)\n",
    "k = torch.tensor([[10, 0, 0], [0, 10, 0],\n",
    "    [0, 0, 10], [0, 0, 10]], dtype=torch.float32)\n",
    "v = torch.tensor([[1, 0], [10, 0], [100, 5], [1000, 6]],\n",
    "    dtype=torch.float32)\n",
    "output = attention(q, k, v, k.shape[-1])"
   ]
  },
  {
   "cell_type": "code",
   "execution_count": 5,
   "metadata": {},
   "outputs": [
    {
     "name": "stdout",
     "output_type": "stream",
     "text": [
      "tensor([[1.0000e+01, 9.2766e-25]])\n"
     ]
    }
   ],
   "source": [
    "print(output)"
   ]
  }
 ],
 "metadata": {
  "interpreter": {
   "hash": "6fe85b82b5469827310a64c41ef787d93c869c5c1f082f9a8db93b600fa17c06"
  },
  "kernelspec": {
   "display_name": "Python 3.9.4 64-bit",
   "language": "python",
   "name": "python3"
  },
  "language_info": {
   "codemirror_mode": {
    "name": "ipython",
    "version": 3
   },
   "file_extension": ".py",
   "mimetype": "text/x-python",
   "name": "python",
   "nbconvert_exporter": "python",
   "pygments_lexer": "ipython3",
   "version": "3.9.4"
  },
  "orig_nbformat": 4
 },
 "nbformat": 4,
 "nbformat_minor": 2
}
