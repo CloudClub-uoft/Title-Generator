{
 "cells": [
  {
   "cell_type": "markdown",
   "metadata": {},
   "source": [
    "# Scaled Dot Product Attention"
   ]
  },
  {
   "cell_type": "code",
   "execution_count": 1,
   "metadata": {},
   "outputs": [],
   "source": [
    "import torch\n",
    "import torch.nn as nn\n",
    "import torch.nn.functional as F\n",
    "import numpy as np\n",
    "from math import sqrt"
   ]
  },
  {
   "cell_type": "code",
   "execution_count": 4,
   "metadata": {},
   "outputs": [],
   "source": [
    "def attention(q, k, v, d_k, mask=None, dropout=None):\n",
    "    scaled_dot = torch.matmul(q, k.transpose(-2, -1)) / sqrt(d_k)\n",
    "    if mask is not None:\n",
    "        scaled_dot = scaled_dot.masked_fill(mask == 0, -1e9)\n",
    "    scaled_dot = F.softmax(scaled_dot, dim=-1)\n",
    "    if dropout is not None:\n",
    "        scaled_dot = dropout(scaled_dot)\n",
    "    output =  torch.matmul(scaled_dot, v)\n",
    "    return output"
   ]
  },
  {
   "cell_type": "code",
   "execution_count": 5,
   "metadata": {},
   "outputs": [],
   "source": [
    "q = torch.tensor([[0, 10, 0], [1, 2, 3]], dtype=torch.float32)\n",
    "k = torch.tensor([[10, 0, 0], [0, 10, 0]], dtype=torch.float32)\n",
    "v = torch.tensor([[1, 0, 1], [10, 0, 5]], dtype=torch.float32)\n",
    "mask = torch.tensor([[1,0],[1,1]])\n",
    "output = attention(q, k, v, k.shape[-1], mask=mask)"
   ]
  },
  {
   "cell_type": "code",
   "execution_count": 6,
   "metadata": {},
   "outputs": [
    {
     "name": "stdout",
     "output_type": "stream",
     "text": [
      "tensor([[1.0000, 0.0000, 1.0000],\n",
      "        [9.9721, 0.0000, 4.9876]])\n"
     ]
    }
   ],
   "source": [
    "print(output)"
   ]
  }
 ],
 "metadata": {
  "interpreter": {
   "hash": "6fe85b82b5469827310a64c41ef787d93c869c5c1f082f9a8db93b600fa17c06"
  },
  "kernelspec": {
   "display_name": "Python 3.9.4 64-bit",
   "language": "python",
   "name": "python3"
  },
  "language_info": {
   "codemirror_mode": {
    "name": "ipython",
    "version": 3
   },
   "file_extension": ".py",
   "mimetype": "text/x-python",
   "name": "python",
   "nbconvert_exporter": "python",
   "pygments_lexer": "ipython3",
   "version": "3.9.4"
  },
  "orig_nbformat": 4
 },
 "nbformat": 4,
 "nbformat_minor": 2
}
