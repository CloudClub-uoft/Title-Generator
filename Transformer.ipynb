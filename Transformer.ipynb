{
 "cells": [
  {
   "cell_type": "code",
   "execution_count": 114,
   "metadata": {},
   "outputs": [],
   "source": [
    "from torch import nn\n",
    "import torch\n",
    "import torch.nn.functional as F\n",
    "from math import sqrt\n",
    "\n",
    "from encoder import EncoderLayer\n",
    "from decoder import DecoderLayer\n",
    "from multi_head_attention import MultiHeadAttention\n",
    "from positional_encoding import PositionalEncoding\n",
    "from scaled_dot_attention import attention\n",
    "from embedding import WordEmbedding"
   ]
  },
  {
   "cell_type": "code",
   "execution_count": 115,
   "metadata": {},
   "outputs": [],
   "source": [
    "class Decoder(nn.Module):\n",
    "    def __init__(self, embed_dim, input_dim, num_heads, num_layers = 6, dropout=0.1):\n",
    "        \"\"\"\n",
    "        embed_dim: num of expected features in input (same as d_model)\n",
    "        input_dim: length of sequence\n",
    "        num_heads: num of heads\n",
    "        num_layers: number of encoder layers\n",
    "        \"\"\"\n",
    "        super().__init__()\n",
    "\n",
    "        self.decoder_layers = nn.ModuleList( [ DecoderLayer(embed_dim, input_dim, num_heads) for x in range(num_layers) ] )\n",
    "\n",
    "    def forward(self, x, encod_out, mask=None):\n",
    "        for layer in self.decoder_layers:\n",
    "            x = layer(x, mask)\n",
    "        \n",
    "        return x"
   ]
  },
  {
   "cell_type": "code",
   "execution_count": 116,
   "metadata": {},
   "outputs": [],
   "source": [
    "class Encoder(nn.Module):\n",
    "    def __init__(self, embed_dim, input_dim, num_heads, num_layers = 6, dropout=0.1):\n",
    "        \"\"\"\n",
    "        embed_dim: num of expected features in input (same as d_model)\n",
    "        input_dim: length of sequence\n",
    "        num_heads: num of heads\n",
    "        num_layers: number of encoder layers\n",
    "        \"\"\"\n",
    "        super().__init__()\n",
    "\n",
    "        self.encoder_layers = nn.ModuleList( [ EncoderLayer(embed_dim, input_dim, num_heads) for x in range(num_layers) ] )\n",
    "\n",
    "    def forward(self, x, mask=None):\n",
    "        for layer in self.encoder_layers:\n",
    "            x = layer(x, mask)\n",
    "        \n",
    "        return x"
   ]
  },
  {
   "cell_type": "code",
   "execution_count": 117,
   "metadata": {},
   "outputs": [],
   "source": [
    "class Transformer(nn.Module):\n",
    "    def __init__(self, vocab_size, embed_dim, input_dim, num_heads, num_layers_encod = 6, num_layers_decod = 6, dropout = 0.1):\n",
    "        super().__init__()\n",
    "\n",
    "        self.embedding1 = WordEmbedding(vocab_size, embed_dim)\n",
    "        self.embedding2 = WordEmbedding(vocab_size, embed_dim)\n",
    "\n",
    "        #self.encoding1 = PositionalEncoding(embed_dim, input_dim)\n",
    "        #self.encoding2 = PositionalEncoding(embed_dim, input_dim)\n",
    "        \n",
    "        self.encoder = Encoder(embed_dim, input_dim, num_heads, num_layers_encod, dropout)\n",
    "        self.decoder = Decoder(embed_dim, input_dim, num_heads, num_layers_decod, dropout)\n",
    "\n",
    "        self.linear = nn.Linear(embed_dim, embed_dim)\n",
    "        self.soft = nn.Softmax(dim=-1)  # which dim to apply it along??\n",
    "   \n",
    "    def forward(self, input, output,  mask=None):\n",
    "        # input goes through encoder\n",
    "        input = self.embedding1(input)\n",
    "        input = self.encoding1(input)\n",
    "\n",
    "        encod_out = self.encoder(input, mask)\n",
    "\n",
    "        # output\n",
    "        output = self.embedding2(output)\n",
    "        output = self.encoding2(output)\n",
    "\n",
    "        # output and input combined into decoder\n",
    "        decod_out = self.decoder(output, encod_out, mask)\n",
    "\n",
    "        # softmax and linear layers\n",
    "        out = self.linear(decod_out)\n",
    "        out = self.soft(out)\n",
    "\n",
    "        return out"
   ]
  },
  {
   "cell_type": "code",
   "execution_count": 118,
   "metadata": {},
   "outputs": [
    {
     "name": "stdout",
     "output_type": "stream",
     "text": [
      "tensor([[[-1.1853,  1.2607, -0.0753]]], grad_fn=<NativeLayerNormBackward0>)\n",
      "tensor([[[0.2447, 0.4535, 0.3018]]], grad_fn=<SoftmaxBackward0>)\n"
     ]
    }
   ],
   "source": [
    "# TEST\n",
    "\n",
    "# TESTING\n",
    "# TESTING\n",
    "embed_dim = 3\n",
    "num_heads = 1\n",
    "\n",
    "x = torch.tensor([[0, 10, 0]], dtype=torch.float32)\n",
    "input_dim = 3\n",
    "\n",
    "encoder = Encoder(embed_dim, input_dim, num_heads, num_layers=6)\n",
    "encod_out = encoder(x)\n",
    "\n",
    "print(encod_out)\n",
    "\n",
    "model = Transformer(1, embed_dim, input_dim, num_heads)\n",
    "output = model.forward(x, x)\n",
    "print(output)"
   ]
  }
 ],
 "metadata": {
  "interpreter": {
   "hash": "e28aa8f00749c703ae5b639866da39d3cef40d6068bc8b931f821ff6e0150f69"
  },
  "kernelspec": {
   "display_name": "Python 3.8.12 ('cloudai')",
   "language": "python",
   "name": "python3"
  },
  "language_info": {
   "codemirror_mode": {
    "name": "ipython",
    "version": 3
   },
   "file_extension": ".py",
   "mimetype": "text/x-python",
   "name": "python",
   "nbconvert_exporter": "python",
   "pygments_lexer": "ipython3",
   "version": "3.8.12"
  },
  "orig_nbformat": 4
 },
 "nbformat": 4,
 "nbformat_minor": 2
}
