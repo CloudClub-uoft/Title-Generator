{
 "cells": [
  {
   "cell_type": "code",
   "execution_count": 119,
   "metadata": {},
   "outputs": [],
   "source": [
    "from torch import nn\n",
    "import torch\n",
    "import torch.nn.functional as F\n",
    "from math import sqrt\n",
    "\n",
    "from encoder import EncoderLayer\n",
    "from decoder import DecoderLayer\n",
    "from multi_head_attention import MultiHeadAttention\n",
    "from positional_encoding import PositionalEncoding\n",
    "from scaled_dot_attention import attention\n",
    "from embedding import WordEmbedding"
   ]
  },
  {
   "cell_type": "code",
   "execution_count": 120,
   "metadata": {},
   "outputs": [],
   "source": [
    "class Decoder(nn.Module):\n",
    "    def __init__(self, embed_dim, input_dim, num_heads, num_layers = 6, dropout=0.1):\n",
    "        \"\"\"\n",
    "        embed_dim: num of expected features in input (same as d_model)\n",
    "        input_dim: length of sequence\n",
    "        num_heads: num of heads\n",
    "        num_layers: number of encoder layers\n",
    "        \"\"\"\n",
    "        super().__init__()\n",
    "\n",
    "        self.decoder_layers = nn.ModuleList( [ DecoderLayer(embed_dim, input_dim, num_heads) for x in range(num_layers) ] )\n",
    "\n",
    "    def forward(self, x, encod_out, mask=None):\n",
    "        for layer in self.decoder_layers:\n",
    "            x = layer(x, mask)\n",
    "        \n",
    "        return x"
   ]
  },
  {
   "cell_type": "code",
   "execution_count": 121,
   "metadata": {},
   "outputs": [],
   "source": [
    "class Encoder(nn.Module):\n",
    "    def __init__(self, embed_dim, input_dim, num_heads, num_layers = 6, dropout=0.1):\n",
    "        \"\"\"\n",
    "        embed_dim: num of expected features in input (same as d_model)\n",
    "        input_dim: length of sequence\n",
    "        num_heads: num of heads\n",
    "        num_layers: number of encoder layers\n",
    "        \"\"\"\n",
    "        super().__init__()\n",
    "\n",
    "        self.encoder_layers = nn.ModuleList( [ EncoderLayer(embed_dim, input_dim, num_heads) for x in range(num_layers) ] )\n",
    "\n",
    "    def forward(self, x, mask=None):\n",
    "        for layer in self.encoder_layers:\n",
    "            x = layer(x, mask)\n",
    "        \n",
    "        return x"
   ]
  },
  {
   "cell_type": "code",
   "execution_count": 122,
   "metadata": {},
   "outputs": [],
   "source": [
    "class Transformer(nn.Module):\n",
    "    def __init__(self, vocab_size, embed_dim, input_dim, num_heads, num_layers_encod = 6, num_layers_decod = 6, dropout = 0.1):\n",
    "        super().__init__()\n",
    "\n",
    "        self.embedding1 = WordEmbedding(vocab_size, embed_dim)\n",
    "        self.embedding2 = WordEmbedding(vocab_size, embed_dim)\n",
    "\n",
    "        #self.encoding1 = PositionalEncoding(embed_dim, input_dim)\n",
    "        #self.encoding2 = PositionalEncoding(embed_dim, input_dim)\n",
    "        \n",
    "        self.encoder = Encoder(embed_dim, input_dim, num_heads, num_layers_encod, dropout)\n",
    "        self.decoder = Decoder(embed_dim, input_dim, num_heads, num_layers_decod, dropout)\n",
    "\n",
    "        self.linear = nn.Linear(embed_dim, embed_dim)\n",
    "        self.soft = nn.Softmax(dim=-1)  # which dim to apply it along??\n",
    "   \n",
    "    def forward(self, input, output,  mask=None):\n",
    "        # input goes through encoder\n",
    "        input = self.embedding1(input)\n",
    "        #input = self.encoding1(input)\n",
    "\n",
    "        encod_out = self.encoder(input, mask)\n",
    "\n",
    "        # output\n",
    "        output = self.embedding2(output)\n",
    "        #output = self.encoding2(output)\n",
    "\n",
    "        # output and input combined into decoder\n",
    "        decod_out = self.decoder(output, encod_out, mask)\n",
    "\n",
    "        # softmax and linear layers\n",
    "        out = self.linear(decod_out)\n",
    "        out = self.soft(out)\n",
    "\n",
    "        return out"
   ]
  },
  {
   "cell_type": "code",
   "execution_count": 125,
   "metadata": {},
   "outputs": [
    {
     "ename": "RuntimeError",
     "evalue": "The size of tensor a (6) must match the size of tensor b (3) at non-singleton dimension 2",
     "output_type": "error",
     "traceback": [
      "\u001b[0;31m---------------------------------------------------------------------------\u001b[0m",
      "\u001b[0;31mRuntimeError\u001b[0m                              Traceback (most recent call last)",
      "\u001b[1;32m/Users/natalievolk/Desktop/Volunteering and Extracurriculars/Cloud Club/Title-Generator/Transformer.ipynb Cell 5\u001b[0m in \u001b[0;36m<cell line: 12>\u001b[0;34m()\u001b[0m\n\u001b[1;32m      <a href='vscode-notebook-cell:/Users/natalievolk/Desktop/Volunteering%20and%20Extracurriculars/Cloud%20Club/Title-Generator/Transformer.ipynb#ch0000005?line=8'>9</a>\u001b[0m input_dim \u001b[39m=\u001b[39m \u001b[39m6\u001b[39m\n\u001b[1;32m     <a href='vscode-notebook-cell:/Users/natalievolk/Desktop/Volunteering%20and%20Extracurriculars/Cloud%20Club/Title-Generator/Transformer.ipynb#ch0000005?line=10'>11</a>\u001b[0m encoder \u001b[39m=\u001b[39m Encoder(embed_dim, input_dim, num_heads, num_layers\u001b[39m=\u001b[39m\u001b[39m6\u001b[39m)\n\u001b[0;32m---> <a href='vscode-notebook-cell:/Users/natalievolk/Desktop/Volunteering%20and%20Extracurriculars/Cloud%20Club/Title-Generator/Transformer.ipynb#ch0000005?line=11'>12</a>\u001b[0m encod_out \u001b[39m=\u001b[39m encoder(x)\n\u001b[1;32m     <a href='vscode-notebook-cell:/Users/natalievolk/Desktop/Volunteering%20and%20Extracurriculars/Cloud%20Club/Title-Generator/Transformer.ipynb#ch0000005?line=13'>14</a>\u001b[0m \u001b[39mprint\u001b[39m(encod_out)\n\u001b[1;32m     <a href='vscode-notebook-cell:/Users/natalievolk/Desktop/Volunteering%20and%20Extracurriculars/Cloud%20Club/Title-Generator/Transformer.ipynb#ch0000005?line=15'>16</a>\u001b[0m model \u001b[39m=\u001b[39m Transformer(\u001b[39m1\u001b[39m, embed_dim, input_dim, num_heads)\n",
      "File \u001b[0;32m~/opt/anaconda3/envs/cloudai/lib/python3.8/site-packages/torch/nn/modules/module.py:1110\u001b[0m, in \u001b[0;36mModule._call_impl\u001b[0;34m(self, *input, **kwargs)\u001b[0m\n\u001b[1;32m   1106\u001b[0m \u001b[39m# If we don't have any hooks, we want to skip the rest of the logic in\u001b[39;00m\n\u001b[1;32m   1107\u001b[0m \u001b[39m# this function, and just call forward.\u001b[39;00m\n\u001b[1;32m   1108\u001b[0m \u001b[39mif\u001b[39;00m \u001b[39mnot\u001b[39;00m (\u001b[39mself\u001b[39m\u001b[39m.\u001b[39m_backward_hooks \u001b[39mor\u001b[39;00m \u001b[39mself\u001b[39m\u001b[39m.\u001b[39m_forward_hooks \u001b[39mor\u001b[39;00m \u001b[39mself\u001b[39m\u001b[39m.\u001b[39m_forward_pre_hooks \u001b[39mor\u001b[39;00m _global_backward_hooks\n\u001b[1;32m   1109\u001b[0m         \u001b[39mor\u001b[39;00m _global_forward_hooks \u001b[39mor\u001b[39;00m _global_forward_pre_hooks):\n\u001b[0;32m-> 1110\u001b[0m     \u001b[39mreturn\u001b[39;00m forward_call(\u001b[39m*\u001b[39;49m\u001b[39minput\u001b[39;49m, \u001b[39m*\u001b[39;49m\u001b[39m*\u001b[39;49mkwargs)\n\u001b[1;32m   1111\u001b[0m \u001b[39m# Do not call functions when jit is used\u001b[39;00m\n\u001b[1;32m   1112\u001b[0m full_backward_hooks, non_full_backward_hooks \u001b[39m=\u001b[39m [], []\n",
      "\u001b[1;32m/Users/natalievolk/Desktop/Volunteering and Extracurriculars/Cloud Club/Title-Generator/Transformer.ipynb Cell 5\u001b[0m in \u001b[0;36mEncoder.forward\u001b[0;34m(self, x, mask)\u001b[0m\n\u001b[1;32m     <a href='vscode-notebook-cell:/Users/natalievolk/Desktop/Volunteering%20and%20Extracurriculars/Cloud%20Club/Title-Generator/Transformer.ipynb#ch0000005?line=12'>13</a>\u001b[0m \u001b[39mdef\u001b[39;00m \u001b[39mforward\u001b[39m(\u001b[39mself\u001b[39m, x, mask\u001b[39m=\u001b[39m\u001b[39mNone\u001b[39;00m):\n\u001b[1;32m     <a href='vscode-notebook-cell:/Users/natalievolk/Desktop/Volunteering%20and%20Extracurriculars/Cloud%20Club/Title-Generator/Transformer.ipynb#ch0000005?line=13'>14</a>\u001b[0m     \u001b[39mfor\u001b[39;00m layer \u001b[39min\u001b[39;00m \u001b[39mself\u001b[39m\u001b[39m.\u001b[39mencoder_layers:\n\u001b[0;32m---> <a href='vscode-notebook-cell:/Users/natalievolk/Desktop/Volunteering%20and%20Extracurriculars/Cloud%20Club/Title-Generator/Transformer.ipynb#ch0000005?line=14'>15</a>\u001b[0m         x \u001b[39m=\u001b[39m layer(x, mask)\n\u001b[1;32m     <a href='vscode-notebook-cell:/Users/natalievolk/Desktop/Volunteering%20and%20Extracurriculars/Cloud%20Club/Title-Generator/Transformer.ipynb#ch0000005?line=16'>17</a>\u001b[0m     \u001b[39mreturn\u001b[39;00m x\n",
      "File \u001b[0;32m~/opt/anaconda3/envs/cloudai/lib/python3.8/site-packages/torch/nn/modules/module.py:1110\u001b[0m, in \u001b[0;36mModule._call_impl\u001b[0;34m(self, *input, **kwargs)\u001b[0m\n\u001b[1;32m   1106\u001b[0m \u001b[39m# If we don't have any hooks, we want to skip the rest of the logic in\u001b[39;00m\n\u001b[1;32m   1107\u001b[0m \u001b[39m# this function, and just call forward.\u001b[39;00m\n\u001b[1;32m   1108\u001b[0m \u001b[39mif\u001b[39;00m \u001b[39mnot\u001b[39;00m (\u001b[39mself\u001b[39m\u001b[39m.\u001b[39m_backward_hooks \u001b[39mor\u001b[39;00m \u001b[39mself\u001b[39m\u001b[39m.\u001b[39m_forward_hooks \u001b[39mor\u001b[39;00m \u001b[39mself\u001b[39m\u001b[39m.\u001b[39m_forward_pre_hooks \u001b[39mor\u001b[39;00m _global_backward_hooks\n\u001b[1;32m   1109\u001b[0m         \u001b[39mor\u001b[39;00m _global_forward_hooks \u001b[39mor\u001b[39;00m _global_forward_pre_hooks):\n\u001b[0;32m-> 1110\u001b[0m     \u001b[39mreturn\u001b[39;00m forward_call(\u001b[39m*\u001b[39;49m\u001b[39minput\u001b[39;49m, \u001b[39m*\u001b[39;49m\u001b[39m*\u001b[39;49mkwargs)\n\u001b[1;32m   1111\u001b[0m \u001b[39m# Do not call functions when jit is used\u001b[39;00m\n\u001b[1;32m   1112\u001b[0m full_backward_hooks, non_full_backward_hooks \u001b[39m=\u001b[39m [], []\n",
      "File \u001b[0;32m~/Desktop/Volunteering and Extracurriculars/Cloud Club/Title-Generator/encoder.py:26\u001b[0m, in \u001b[0;36mEncoderLayer.forward\u001b[0;34m(self, x, mask)\u001b[0m\n\u001b[1;32m     23\u001b[0m \u001b[39mdef\u001b[39;00m \u001b[39mforward\u001b[39m(\u001b[39mself\u001b[39m, x, mask\u001b[39m=\u001b[39m\u001b[39mNone\u001b[39;00m):\n\u001b[1;32m     24\u001b[0m     \u001b[39m# attention output\u001b[39;00m\n\u001b[1;32m     25\u001b[0m     attn_out \u001b[39m=\u001b[39m \u001b[39mself\u001b[39m\u001b[39m.\u001b[39mattention(q\u001b[39m=\u001b[39mx, k\u001b[39m=\u001b[39mx, v\u001b[39m=\u001b[39mx, mask\u001b[39m=\u001b[39mmask)\n\u001b[0;32m---> 26\u001b[0m     x \u001b[39m=\u001b[39m x \u001b[39m+\u001b[39;49m \u001b[39mself\u001b[39;49m\u001b[39m.\u001b[39;49mdropout1(attn_out)\n\u001b[1;32m     27\u001b[0m     x \u001b[39m=\u001b[39m \u001b[39mself\u001b[39m\u001b[39m.\u001b[39mnorm1(x)\n\u001b[1;32m     29\u001b[0m     \u001b[39m# feedforward output\u001b[39;00m\n",
      "\u001b[0;31mRuntimeError\u001b[0m: The size of tensor a (6) must match the size of tensor b (3) at non-singleton dimension 2"
     ]
    }
   ],
   "source": [
    "# TEST\n",
    "\n",
    "# TESTING\n",
    "# TESTING\n",
    "embed_dim = 6\n",
    "num_heads = 1\n",
    "\n",
    "x = torch.tensor([[0, 10, 0, 1, 2, 3]], dtype=torch.float32)\n",
    "input_dim = 6\n",
    "\n",
    "encoder = Encoder(embed_dim, input_dim, num_heads, num_layers=6)\n",
    "encod_out = encoder(x)\n",
    "\n",
    "print(encod_out)\n",
    "\n",
    "model = Transformer(1, embed_dim, input_dim, num_heads)\n",
    "output = model.forward(x, x)\n",
    "print(output)"
   ]
  }
 ],
 "metadata": {
  "interpreter": {
   "hash": "e28aa8f00749c703ae5b639866da39d3cef40d6068bc8b931f821ff6e0150f69"
  },
  "kernelspec": {
   "display_name": "Python 3.8.12 ('cloudai')",
   "language": "python",
   "name": "python3"
  },
  "language_info": {
   "codemirror_mode": {
    "name": "ipython",
    "version": 3
   },
   "file_extension": ".py",
   "mimetype": "text/x-python",
   "name": "python",
   "nbconvert_exporter": "python",
   "pygments_lexer": "ipython3",
   "version": "3.8.12"
  },
  "orig_nbformat": 4
 },
 "nbformat": 4,
 "nbformat_minor": 2
}
