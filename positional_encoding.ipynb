{
 "cells": [
  {
   "cell_type": "code",
   "execution_count": null,
   "metadata": {},
   "outputs": [],
   "source": [
    "from torch import nn\n",
    "import torch\n",
    "from math import log"
   ]
  },
  {
   "cell_type": "code",
   "execution_count": null,
   "metadata": {},
   "outputs": [],
   "source": [
    "class MultiHeadAttention(nn.Module):\n",
    "\n",
    "    def __init__(self, embed_dim, input_dim):\n",
    "        \"\"\"\n",
    "        embed_dim: num of expected features in input (same as d_model)\n",
    "        input_dim: length of sequence\n",
    "        \"\"\"\n",
    "        super().__init__()\n",
    "\n",
    "        encod = torch.zeros(input_dim, embed_dim)\n",
    "\n",
    "        position = torch.arange(0, input_dim, dtype=torch.float).unsqueeze(1)   # numerator\n",
    "\n",
    "        i = torch.arange(0, embed_dim, 2, dtype=torch.float)\n",
    "\n",
    "        denom = torch.exp(log(100000.0) * i / embed_dim)\n",
    "\n",
    "        encod[ : , 0::2] = torch.sin(position / denom)\n",
    "        encod[ : , 1::2] = torch.cos(position / denom)\n",
    "        encod.unsqueeze(0)\n",
    "\n",
    "        self.pe = encod\n",
    "\n",
    "\n",
    "    def forward(self, x):\n",
    "        x = x + self.pe[:, : x.size(1)]\n",
    "        return x"
   ]
  }
 ],
 "metadata": {
  "language_info": {
   "name": "python"
  },
  "orig_nbformat": 4
 },
 "nbformat": 4,
 "nbformat_minor": 2
}
