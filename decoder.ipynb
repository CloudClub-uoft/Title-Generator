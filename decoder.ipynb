{
 "cells": [
  {
   "cell_type": "code",
   "execution_count": 1,
   "metadata": {},
   "outputs": [],
   "source": [
    "from torch import nn\n",
    "import torch\n",
    "import torch.nn.functional as F\n",
    "from math import sqrt\n",
    "\n",
    "#from multi_head_attention.ipynb import MultiHeadAttention"
   ]
  },
  {
   "cell_type": "code",
   "execution_count": 2,
   "metadata": {},
   "outputs": [],
   "source": [
    "class DecoderLayer(nn.Module):\n",
    "    def __init__(self, embed_dim, input_dim, num_heads):\n",
    "        \"\"\"\n",
    "        embed_dim: num of expected features in input (same as d_model)\n",
    "        input_dim: length of sequence\n",
    "        num_heads: num of heads\n",
    "        \"\"\"\n",
    "        super().__init__()\n",
    "\n",
    "        self.attention1 = MultiHeadAttention(num_heads=num_heads, embed_dim=embed_dim, input_dim=input_dim, dropout=0.1)\n",
    "        self.attention2 = MultiHeadAttention(num_heads=num_heads, embed_dim=embed_dim, input_dim=input_dim, dropout=0.1)\n",
    "        self.feedforward = PositionwiseFeedForward(embed_dim=embed_dim, input_dim=input_dim)\n",
    "\n",
    "        self.norm1 = nn.LayerNorm(input_dim)\n",
    "        self.norm2 = nn.LayerNorm(input_dim)\n",
    "        self.norm3 = nn.LayerNorm(input_dim)\n",
    "        self.dropout1 = nn.Dropout(0.1)\n",
    "        self.dropout2 = nn.Dropout(0.1)\n",
    "        self.dropout3 = nn.Dropout(0.1)\n",
    "\n",
    "    def forward(self, x, mask=None):\n",
    "        # masked attention output\n",
    "        attn_1_out = self.attention1(q=x, k=x, v=x, mask=mask)\n",
    "        x = x + self.dropout1(attn_1_out)\n",
    "        x = self.norm1(x)\n",
    "\n",
    "        # unmasked attention output\n",
    "        attn_2_out = self.attention2(q=x, k=x, v=x, mask=None)\n",
    "        x = x + self.dropout2(attn_2_out)\n",
    "        x = self.norm2(x)\n",
    "\n",
    "        # feedforward output\n",
    "        ff_out = self.feedforward(x)  # TODO: needs to be implemented\n",
    "        x = x + self.dropout3(ff_out)\n",
    "        x = self.norm3(x)\n",
    "\n",
    "        return x\n",
    "        \n",
    "\n",
    "        "
   ]
  },
  {
   "cell_type": "code",
   "execution_count": 3,
   "metadata": {},
   "outputs": [],
   "source": [
    "#taken from multi_head_attention.ipynb for decoder testing purposes\n",
    "\n",
    "class MultiHeadAttention(nn.Module):\n",
    "    def __init__(self, num_heads, embed_dim, input_dim, dropout=0.1):\n",
    "        super().__init__()\n",
    "\n",
    "        self.embed_dim = embed_dim\n",
    "        self.num_heads = num_heads\n",
    "        self.dim_heads = embed_dim // num_heads     # dim_heads aka d_k\n",
    "\n",
    "        self.q_lin = nn.Linear(input_dim, embed_dim)\n",
    "        self.k_lin = nn.Linear(input_dim, embed_dim)\n",
    "        self.v_lin = nn.Linear(input_dim, embed_dim)\n",
    "        self.out_proj = nn.Linear(embed_dim, embed_dim)\n",
    "        self.dropout = nn.Dropout(dropout)\n",
    "\n",
    "    def forward(self, q, k, v, mask=None):\n",
    "        batch_size = q.size(0)\n",
    "        num_heads, dim_heads = self.num_heads, self.dim_heads\n",
    "\n",
    "        q = self.q_lin(q).reshape(batch_size, -1, num_heads, dim_heads).transpose(1, 2)\n",
    "        k = self.k_lin(k).reshape(batch_size, -1, num_heads, dim_heads).transpose(1, 2)\n",
    "        v = self.v_lin(v).reshape(batch_size, -1, num_heads, dim_heads).transpose(1, 2)\n",
    "\n",
    "        scores = attention(q, k, v, dim_heads, mask=mask, dropout=self.dropout)\n",
    "        \n",
    "        scores = scores.transpose(1, 2).contiguous().reshape(batch_size, -1, self.embed_dim)\n",
    "\n",
    "        output = self.out_proj(scores)\n",
    "\n",
    "        return output"
   ]
  },
  {
   "cell_type": "code",
   "execution_count": 4,
   "metadata": {},
   "outputs": [],
   "source": [
    "# taken from ScaledDotProductAttention.ipynb for decoder testing purposes\n",
    "\n",
    "def attention(q, k, v, d_k, mask=None, dropout=None):\n",
    "    scaled_dot = torch.matmul(q, k.transpose(-2, -1)) / sqrt(d_k)\n",
    "    if mask is not None:\n",
    "        scaled_dot = scaled_dot.masked_fill(mask == 0, -1e9)\n",
    "    scaled_dot = F.softmax(scaled_dot, dim=-1)\n",
    "    if dropout is not None:\n",
    "        scaled_dot = dropout(scaled_dot)\n",
    "    output =  torch.matmul(scaled_dot, v)\n",
    "    return output"
   ]
  },
  {
   "cell_type": "code",
   "execution_count": 5,
   "metadata": {},
   "outputs": [],
   "source": [
    "#taken from positionwise_feedforward.ipynb for decoder testing purposes\n",
    "\n",
    "class PositionwiseFeedForward(nn.Module):\n",
    "\n",
    "    def __init__(self, embed_dim, input_dim, dropout_rate=0.1):\n",
    "        \"\"\"\n",
    "        embed_dim: num of expected features in input (same as d_model)\n",
    "        input_dim: length of sequence\n",
    "        \"\"\"\n",
    "        super(PositionwiseFeedForward, self).__init__()\n",
    "        self.embed_dim = embed_dim\n",
    "        self.input_dim = input_dim\n",
    "        self.dropout_rate = dropout_rate\n",
    "        self.w_1 = nn.Linear(embed_dim, input_dim)\n",
    "        self.w_2 = nn.Linear(input_dim, embed_dim)\n",
    "        self.dropout = nn.Dropout(dropout_rate)\n",
    "    \n",
    "    def forward(self, x):\n",
    "        # x = (batch_size, input_dim, embed_dim)\n",
    "        x = self.dropout(F.relu(self.w_1(x))) \n",
    "        x = self.w_2(x)  \n",
    "        return x"
   ]
  },
  {
   "cell_type": "code",
   "execution_count": 14,
   "metadata": {},
   "outputs": [
    {
     "ename": "RuntimeError",
     "evalue": "shape '[1, -1, 2, 1]' is invalid for input of size 3",
     "output_type": "error",
     "traceback": [
      "\u001b[0;31m---------------------------------------------------------------------------\u001b[0m",
      "\u001b[0;31mRuntimeError\u001b[0m                              Traceback (most recent call last)",
      "\u001b[1;32m/Users/natalievolk/Desktop/Volunteering and Extracurriculars/Cloud Club/Title-Generator/decoder.ipynb Cell 6'\u001b[0m in \u001b[0;36m<cell line: 10>\u001b[0;34m()\u001b[0m\n\u001b[1;32m      <a href='vscode-notebook-cell:/Users/natalievolk/Desktop/Volunteering%20and%20Extracurriculars/Cloud%20Club/Title-Generator/decoder.ipynb#ch0000001?line=6'>7</a>\u001b[0m input_dim \u001b[39m=\u001b[39m \u001b[39m3\u001b[39m\n\u001b[1;32m      <a href='vscode-notebook-cell:/Users/natalievolk/Desktop/Volunteering%20and%20Extracurriculars/Cloud%20Club/Title-Generator/decoder.ipynb#ch0000001?line=8'>9</a>\u001b[0m decoder \u001b[39m=\u001b[39m DecoderLayer(embed_dim, input_dim, num_heads)\n\u001b[0;32m---> <a href='vscode-notebook-cell:/Users/natalievolk/Desktop/Volunteering%20and%20Extracurriculars/Cloud%20Club/Title-Generator/decoder.ipynb#ch0000001?line=9'>10</a>\u001b[0m output \u001b[39m=\u001b[39m decoder\u001b[39m.\u001b[39;49mforward(x)\n\u001b[1;32m     <a href='vscode-notebook-cell:/Users/natalievolk/Desktop/Volunteering%20and%20Extracurriculars/Cloud%20Club/Title-Generator/decoder.ipynb#ch0000001?line=10'>11</a>\u001b[0m \u001b[39mprint\u001b[39m(output)\n",
      "\u001b[1;32m/Users/natalievolk/Desktop/Volunteering and Extracurriculars/Cloud Club/Title-Generator/decoder.ipynb Cell 2'\u001b[0m in \u001b[0;36mDecoderLayer.forward\u001b[0;34m(self, x, mask)\u001b[0m\n\u001b[1;32m     <a href='vscode-notebook-cell:/Users/natalievolk/Desktop/Volunteering%20and%20Extracurriculars/Cloud%20Club/Title-Generator/decoder.ipynb#ch0000004?line=20'>21</a>\u001b[0m \u001b[39mdef\u001b[39;00m \u001b[39mforward\u001b[39m(\u001b[39mself\u001b[39m, x, mask\u001b[39m=\u001b[39m\u001b[39mNone\u001b[39;00m):\n\u001b[1;32m     <a href='vscode-notebook-cell:/Users/natalievolk/Desktop/Volunteering%20and%20Extracurriculars/Cloud%20Club/Title-Generator/decoder.ipynb#ch0000004?line=21'>22</a>\u001b[0m     \u001b[39m# masked attention output\u001b[39;00m\n\u001b[0;32m---> <a href='vscode-notebook-cell:/Users/natalievolk/Desktop/Volunteering%20and%20Extracurriculars/Cloud%20Club/Title-Generator/decoder.ipynb#ch0000004?line=22'>23</a>\u001b[0m     attn_1_out \u001b[39m=\u001b[39m \u001b[39mself\u001b[39;49m\u001b[39m.\u001b[39;49mattention1(q\u001b[39m=\u001b[39;49mx, k\u001b[39m=\u001b[39;49mx, v\u001b[39m=\u001b[39;49mx, mask\u001b[39m=\u001b[39;49mmask)\n\u001b[1;32m     <a href='vscode-notebook-cell:/Users/natalievolk/Desktop/Volunteering%20and%20Extracurriculars/Cloud%20Club/Title-Generator/decoder.ipynb#ch0000004?line=23'>24</a>\u001b[0m     x \u001b[39m=\u001b[39m x \u001b[39m+\u001b[39m \u001b[39mself\u001b[39m\u001b[39m.\u001b[39mdropout1(attn_1_out)\n\u001b[1;32m     <a href='vscode-notebook-cell:/Users/natalievolk/Desktop/Volunteering%20and%20Extracurriculars/Cloud%20Club/Title-Generator/decoder.ipynb#ch0000004?line=24'>25</a>\u001b[0m     x \u001b[39m=\u001b[39m \u001b[39mself\u001b[39m\u001b[39m.\u001b[39mnorm1(x)\n",
      "File \u001b[0;32m~/opt/anaconda3/envs/cloudai/lib/python3.8/site-packages/torch/nn/modules/module.py:1110\u001b[0m, in \u001b[0;36mModule._call_impl\u001b[0;34m(self, *input, **kwargs)\u001b[0m\n\u001b[1;32m   <a href='file:///Users/natalievolk/opt/anaconda3/envs/cloudai/lib/python3.8/site-packages/torch/nn/modules/module.py?line=1105'>1106</a>\u001b[0m \u001b[39m# If we don't have any hooks, we want to skip the rest of the logic in\u001b[39;00m\n\u001b[1;32m   <a href='file:///Users/natalievolk/opt/anaconda3/envs/cloudai/lib/python3.8/site-packages/torch/nn/modules/module.py?line=1106'>1107</a>\u001b[0m \u001b[39m# this function, and just call forward.\u001b[39;00m\n\u001b[1;32m   <a href='file:///Users/natalievolk/opt/anaconda3/envs/cloudai/lib/python3.8/site-packages/torch/nn/modules/module.py?line=1107'>1108</a>\u001b[0m \u001b[39mif\u001b[39;00m \u001b[39mnot\u001b[39;00m (\u001b[39mself\u001b[39m\u001b[39m.\u001b[39m_backward_hooks \u001b[39mor\u001b[39;00m \u001b[39mself\u001b[39m\u001b[39m.\u001b[39m_forward_hooks \u001b[39mor\u001b[39;00m \u001b[39mself\u001b[39m\u001b[39m.\u001b[39m_forward_pre_hooks \u001b[39mor\u001b[39;00m _global_backward_hooks\n\u001b[1;32m   <a href='file:///Users/natalievolk/opt/anaconda3/envs/cloudai/lib/python3.8/site-packages/torch/nn/modules/module.py?line=1108'>1109</a>\u001b[0m         \u001b[39mor\u001b[39;00m _global_forward_hooks \u001b[39mor\u001b[39;00m _global_forward_pre_hooks):\n\u001b[0;32m-> <a href='file:///Users/natalievolk/opt/anaconda3/envs/cloudai/lib/python3.8/site-packages/torch/nn/modules/module.py?line=1109'>1110</a>\u001b[0m     \u001b[39mreturn\u001b[39;00m forward_call(\u001b[39m*\u001b[39;49m\u001b[39minput\u001b[39;49m, \u001b[39m*\u001b[39;49m\u001b[39m*\u001b[39;49mkwargs)\n\u001b[1;32m   <a href='file:///Users/natalievolk/opt/anaconda3/envs/cloudai/lib/python3.8/site-packages/torch/nn/modules/module.py?line=1110'>1111</a>\u001b[0m \u001b[39m# Do not call functions when jit is used\u001b[39;00m\n\u001b[1;32m   <a href='file:///Users/natalievolk/opt/anaconda3/envs/cloudai/lib/python3.8/site-packages/torch/nn/modules/module.py?line=1111'>1112</a>\u001b[0m full_backward_hooks, non_full_backward_hooks \u001b[39m=\u001b[39m [], []\n",
      "\u001b[1;32m/Users/natalievolk/Desktop/Volunteering and Extracurriculars/Cloud Club/Title-Generator/decoder.ipynb Cell 3'\u001b[0m in \u001b[0;36mMultiHeadAttention.forward\u001b[0;34m(self, q, k, v, mask)\u001b[0m\n\u001b[1;32m     <a href='vscode-notebook-cell:/Users/natalievolk/Desktop/Volunteering%20and%20Extracurriculars/Cloud%20Club/Title-Generator/decoder.ipynb#ch0000003?line=17'>18</a>\u001b[0m batch_size \u001b[39m=\u001b[39m q\u001b[39m.\u001b[39msize(\u001b[39m0\u001b[39m)\n\u001b[1;32m     <a href='vscode-notebook-cell:/Users/natalievolk/Desktop/Volunteering%20and%20Extracurriculars/Cloud%20Club/Title-Generator/decoder.ipynb#ch0000003?line=18'>19</a>\u001b[0m num_heads, dim_heads \u001b[39m=\u001b[39m \u001b[39mself\u001b[39m\u001b[39m.\u001b[39mnum_heads, \u001b[39mself\u001b[39m\u001b[39m.\u001b[39mdim_heads\n\u001b[0;32m---> <a href='vscode-notebook-cell:/Users/natalievolk/Desktop/Volunteering%20and%20Extracurriculars/Cloud%20Club/Title-Generator/decoder.ipynb#ch0000003?line=20'>21</a>\u001b[0m q \u001b[39m=\u001b[39m \u001b[39mself\u001b[39;49m\u001b[39m.\u001b[39;49mq_lin(q)\u001b[39m.\u001b[39;49mreshape(batch_size, \u001b[39m-\u001b[39;49m\u001b[39m1\u001b[39;49m, num_heads, dim_heads)\u001b[39m.\u001b[39mtranspose(\u001b[39m1\u001b[39m, \u001b[39m2\u001b[39m)\n\u001b[1;32m     <a href='vscode-notebook-cell:/Users/natalievolk/Desktop/Volunteering%20and%20Extracurriculars/Cloud%20Club/Title-Generator/decoder.ipynb#ch0000003?line=21'>22</a>\u001b[0m k \u001b[39m=\u001b[39m \u001b[39mself\u001b[39m\u001b[39m.\u001b[39mk_lin(k)\u001b[39m.\u001b[39mreshape(batch_size, \u001b[39m-\u001b[39m\u001b[39m1\u001b[39m, num_heads, dim_heads)\u001b[39m.\u001b[39mtranspose(\u001b[39m1\u001b[39m, \u001b[39m2\u001b[39m)\n\u001b[1;32m     <a href='vscode-notebook-cell:/Users/natalievolk/Desktop/Volunteering%20and%20Extracurriculars/Cloud%20Club/Title-Generator/decoder.ipynb#ch0000003?line=22'>23</a>\u001b[0m v \u001b[39m=\u001b[39m \u001b[39mself\u001b[39m\u001b[39m.\u001b[39mv_lin(v)\u001b[39m.\u001b[39mreshape(batch_size, \u001b[39m-\u001b[39m\u001b[39m1\u001b[39m, num_heads, dim_heads)\u001b[39m.\u001b[39mtranspose(\u001b[39m1\u001b[39m, \u001b[39m2\u001b[39m)\n",
      "\u001b[0;31mRuntimeError\u001b[0m: shape '[1, -1, 2, 1]' is invalid for input of size 3"
     ]
    }
   ],
   "source": [
    "# TESTING\n",
    "\n",
    "embed_dim = 3\n",
    "num_heads = 1\n",
    "\n",
    "x = torch.tensor([[0, 10, 0]], dtype=torch.float32)\n",
    "input_dim = 3\n",
    "\n",
    "decoder = DecoderLayer(embed_dim, input_dim, num_heads)\n",
    "output = decoder.forward(x)\n",
    "print(output)"
   ]
  }
 ],
 "metadata": {
  "interpreter": {
   "hash": "e28aa8f00749c703ae5b639866da39d3cef40d6068bc8b931f821ff6e0150f69"
  },
  "kernelspec": {
   "display_name": "Python 3.8.12 ('cloudai')",
   "language": "python",
   "name": "python3"
  },
  "language_info": {
   "codemirror_mode": {
    "name": "ipython",
    "version": 3
   },
   "file_extension": ".py",
   "mimetype": "text/x-python",
   "name": "python",
   "nbconvert_exporter": "python",
   "pygments_lexer": "ipython3",
   "version": "3.8.12"
  },
  "orig_nbformat": 4
 },
 "nbformat": 4,
 "nbformat_minor": 2
}
