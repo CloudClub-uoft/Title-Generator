{
 "cells": [
  {
   "cell_type": "code",
   "execution_count": 1,
   "metadata": {},
   "outputs": [],
   "source": [
    "from torch import nn\n",
    "import torch\n",
    "import torch.nn.functional as F\n",
    "from math import sqrt\n",
    "\n",
    "#from multi_head_attention.ipynb import MultiHeadAttention"
   ]
  },
  {
   "cell_type": "code",
   "execution_count": 2,
   "metadata": {},
   "outputs": [],
   "source": [
    "class DecoderLayer(nn.Module):\n",
    "    def __init__(self, embed_dim, input_dim, num_heads):\n",
    "        \"\"\"\n",
    "        embed_dim: num of expected features in input (same as d_model)\n",
    "        input_dim: length of sequence\n",
    "        num_heads: num of heads\n",
    "        \"\"\"\n",
    "        super().__init__()\n",
    "\n",
    "        self.attention1 = MultiHeadAttention(num_heads=num_heads, embed_dim=embed_dim, input_dim=input_dim, dropout=0.1)\n",
    "        self.attention2 = MultiHeadAttention(num_heads=num_heads, embed_dim=embed_dim, input_dim=input_dim, dropout=0.1)\n",
    "        self.feedforward = PositionwiseFeedForward(embed_dim=embed_dim, input_dim=input_dim)\n",
    "\n",
    "        self.norm1 = nn.LayerNorm(input_dim)\n",
    "        self.norm2 = nn.LayerNorm(input_dim)\n",
    "        self.norm3 = nn.LayerNorm(input_dim)\n",
    "        self.dropout1 = nn.Dropout(0.1)\n",
    "        self.dropout2 = nn.Dropout(0.1)\n",
    "        self.dropout3 = nn.Dropout(0.1)\n",
    "\n",
    "    def forward(self, x, encod_out, mask=None):\n",
    "        # masked attention output\n",
    "        attn_1_out = self.attention1(q=x, k=x, v=x, mask=mask)\n",
    "        x = x + self.dropout1(attn_1_out)\n",
    "        x = self.norm1(x)\n",
    "\n",
    "        # unmasked attention output with encoder input\n",
    "        attn_2_out = self.attention2(q=x, k=encod_out, v=encod_out, mask=None)\n",
    "        x = x + self.dropout2(attn_2_out)\n",
    "        x = self.norm2(x)\n",
    "\n",
    "        # feedforward output\n",
    "        ff_out = self.feedforward(x) \n",
    "        x = x + self.dropout3(ff_out)\n",
    "        x = self.norm3(x)\n",
    "\n",
    "        return x\n",
    "        \n",
    "\n",
    "        "
   ]
  },
  {
   "cell_type": "code",
   "execution_count": 3,
   "metadata": {},
   "outputs": [],
   "source": [
    "#taken from multi_head_attention.ipynb for decoder testing purposes\n",
    "\n",
    "class MultiHeadAttention(nn.Module):\n",
    "    def __init__(self, num_heads, embed_dim, input_dim, dropout=0.1):\n",
    "        super().__init__()\n",
    "\n",
    "        self.embed_dim = embed_dim\n",
    "        self.num_heads = num_heads\n",
    "        self.dim_heads = embed_dim // num_heads     # dim_heads aka d_k\n",
    "\n",
    "        self.q_lin = nn.Linear(input_dim, embed_dim)\n",
    "        self.k_lin = nn.Linear(input_dim, embed_dim)\n",
    "        self.v_lin = nn.Linear(input_dim, embed_dim)\n",
    "        self.out_proj = nn.Linear(embed_dim, embed_dim)\n",
    "        self.dropout = nn.Dropout(dropout)\n",
    "\n",
    "    def forward(self, q, k, v, mask=None):\n",
    "        batch_size = q.size(0)\n",
    "        num_heads, dim_heads = self.num_heads, self.dim_heads\n",
    "\n",
    "        q = self.q_lin(q).reshape(batch_size, -1, num_heads, dim_heads).transpose(1, 2)\n",
    "        k = self.k_lin(k).reshape(batch_size, -1, num_heads, dim_heads).transpose(1, 2)\n",
    "        v = self.v_lin(v).reshape(batch_size, -1, num_heads, dim_heads).transpose(1, 2)\n",
    "\n",
    "        scores = attention(q, k, v, dim_heads, mask=mask, dropout=self.dropout)\n",
    "        \n",
    "        scores = scores.transpose(1, 2).contiguous().reshape(batch_size, -1, self.embed_dim)\n",
    "\n",
    "        output = self.out_proj(scores)\n",
    "\n",
    "        return output"
   ]
  },
  {
   "cell_type": "code",
   "execution_count": 4,
   "metadata": {},
   "outputs": [],
   "source": [
    "# taken from ScaledDotProductAttention.ipynb for decoder testing purposes\n",
    "\n",
    "def attention(q, k, v, d_k, mask=None, dropout=None):\n",
    "    scaled_dot = torch.matmul(q, k.transpose(-2, -1)) / sqrt(d_k)\n",
    "    if mask is not None:\n",
    "        scaled_dot = scaled_dot.masked_fill(mask == 0, -1e9)\n",
    "    scaled_dot = F.softmax(scaled_dot, dim=-1)\n",
    "    if dropout is not None:\n",
    "        scaled_dot = dropout(scaled_dot)\n",
    "    output =  torch.matmul(scaled_dot, v)\n",
    "    return output"
   ]
  },
  {
   "cell_type": "code",
   "execution_count": 5,
   "metadata": {},
   "outputs": [],
   "source": [
    "#taken from positionwise_feedforward.ipynb for decoder testing purposes\n",
    "\n",
    "class PositionwiseFeedForward(nn.Module):\n",
    "\n",
    "    def __init__(self, embed_dim, input_dim, dropout_rate=0.1):\n",
    "        \"\"\"\n",
    "        embed_dim: num of expected features in input (same as d_model)\n",
    "        input_dim: length of sequence\n",
    "        \"\"\"\n",
    "        super(PositionwiseFeedForward, self).__init__()\n",
    "        self.embed_dim = embed_dim\n",
    "        self.input_dim = input_dim\n",
    "        self.dropout_rate = dropout_rate\n",
    "        self.w_1 = nn.Linear(embed_dim, input_dim)\n",
    "        self.w_2 = nn.Linear(input_dim, embed_dim)\n",
    "        self.dropout = nn.Dropout(dropout_rate)\n",
    "    \n",
    "    def forward(self, x):\n",
    "        # x = (batch_size, input_dim, embed_dim)\n",
    "        x = self.dropout(F.relu(self.w_1(x))) \n",
    "        x = self.w_2(x)  \n",
    "        return x"
   ]
  },
  {
   "cell_type": "code",
   "execution_count": 6,
   "metadata": {},
   "outputs": [
    {
     "name": "stdout",
     "output_type": "stream",
     "text": [
      "tensor([[[-0.3413,  1.3592, -1.0179]]], grad_fn=<NativeLayerNormBackward0>)\n"
     ]
    }
   ],
   "source": [
    "# TESTING\n",
    "\n",
    "embed_dim = 3\n",
    "num_heads = 1\n",
    "\n",
    "x = torch.tensor([[0, 10, 0]], dtype=torch.float32)\n",
    "input_dim = 3\n",
    "\n",
    "decoder = DecoderLayer(embed_dim, input_dim, num_heads)\n",
    "output = decoder.forward(x)\n",
    "print(output)"
   ]
  }
 ],
 "metadata": {
  "interpreter": {
   "hash": "e28aa8f00749c703ae5b639866da39d3cef40d6068bc8b931f821ff6e0150f69"
  },
  "kernelspec": {
   "display_name": "Python 3.8.12 ('cloudai')",
   "language": "python",
   "name": "python3"
  },
  "language_info": {
   "codemirror_mode": {
    "name": "ipython",
    "version": 3
   },
   "file_extension": ".py",
   "mimetype": "text/x-python",
   "name": "python",
   "nbconvert_exporter": "python",
   "pygments_lexer": "ipython3",
   "version": "3.8.12"
  },
  "orig_nbformat": 4
 },
 "nbformat": 4,
 "nbformat_minor": 2
}
