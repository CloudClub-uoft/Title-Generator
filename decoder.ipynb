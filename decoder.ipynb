{
 "cells": [
  {
   "cell_type": "code",
   "execution_count": null,
   "metadata": {},
   "outputs": [],
   "source": [
    "from torch import nn\n",
    "import torch\n",
    "import torch.nn.functional as F\n",
    "from math import sqrt\n",
    "\n",
    "from multi_head_attention.ipynb import MultiHeadAttention"
   ]
  },
  {
   "cell_type": "code",
   "execution_count": null,
   "metadata": {},
   "outputs": [],
   "source": [
    "class DecoderLayer(nn.Module):\n",
    "    def __init__(self, embed_dim, input_dim, num_heads):\n",
    "        \"\"\"\n",
    "        embed_dim: num of expected features in input (same as d_model)\n",
    "        input_dim: length of sequence\n",
    "        num_heads: num of heads\n",
    "        \"\"\"\n",
    "        super().__init__()\n",
    "\n",
    "        self.attention = MultiHeadAttention(num_heads=num_heads, embed_dim=embed_dim, input_dim=input_dim, dropout=0.1)\n",
    "        self.feedforward = pointwise_feedforward() # TODO: needs to be implemented\n",
    "\n",
    "        self.norm1 = nn.LayerNorm(input_dim)\n",
    "        self.norm2 = nn.LayerNorm(input_dim)\n",
    "        self.norm3 = nn.LayerNorm(input_dim)\n",
    "        self.dropout1 = nn.Dropout(0.1)\n",
    "        self.dropout2 = nn.Dropout(0.1)\n",
    "        self.dropout3 = nn.Dropout(0.1)\n",
    "\n",
    "    def forward(self, x, mask=None):\n",
    "        # masked attention output\n",
    "        attn_1_out = self.attention(q=x, k=x, v=x, mask=mask)\n",
    "        x = x + self.dropout1(attn_1_out)\n",
    "        x = self.norm1(x)\n",
    "\n",
    "        # unmasked attention output\n",
    "        attn_2_out = self.attention(q=x, k=x, v=x, mask=None)\n",
    "        x = x + self.dropout2(attn_2_out)\n",
    "        x = self.norm2(x)\n",
    "\n",
    "        # feedforward output\n",
    "        ff_out = self.feedforward(x)  # TODO: needs to be implemented\n",
    "        x = x + self.dropout3(ff_out)\n",
    "        x = self.norm3(x)\n",
    "\n",
    "        return x\n",
    "        \n",
    "\n",
    "        "
   ]
  }
 ],
 "metadata": {
  "language_info": {
   "name": "python"
  },
  "orig_nbformat": 4
 },
 "nbformat": 4,
 "nbformat_minor": 2
}
