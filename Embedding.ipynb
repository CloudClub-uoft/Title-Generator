{
 "cells": [
  {
   "cell_type": "code",
   "execution_count": 2,
   "metadata": {},
   "outputs": [],
   "source": [
    "import torch\n",
    "import torch.nn as nn\n",
    "import torch.nn.functional as F"
   ]
  },
  {
   "cell_type": "code",
   "execution_count": 42,
   "metadata": {},
   "outputs": [],
   "source": [
    "class WordEmbedding(nn.Module):\n",
    "    def __init__(self, vocab_size, embed_dim=512):\n",
    "        super().__init__()\n",
    "        # embed_dim: embedding dimension (usually 1024 or 512)\n",
    "        self.embed_dim = embed_dim\n",
    "        self.embed_matrix = torch.empty([vocab_size, embed_dim])\n",
    "\n",
    "        nn.init.xavier_normal_(self.embed_matrix)\n",
    "        self.embed_matrix = nn.Parameter(self.embed_matrix)\n",
    "        # seq len x vocab_size, vocab_size x embed_dim\n",
    "        # embedding matrix dimensions: number of words in vocab x embed_dim (usually 1024 or 512)\n",
    "\n",
    "    def forward(self, x):\n",
    "        # x: embedding tensor (batch_size by seq_len by vocab_size)\n",
    "        return torch.matmul(x, self.embed_matrix)\n"
   ]
  },
  {
   "cell_type": "code",
   "execution_count": 43,
   "metadata": {},
   "outputs": [
    {
     "name": "stdout",
     "output_type": "stream",
     "text": [
      "torch.Size([10, 50])\n",
      "torch.Size([10, 5])\n"
     ]
    }
   ],
   "source": [
    "vocab_size = 50 # 50 words in dictionary\n",
    "in_sequence = F.one_hot(torch.arange(0, 10) % 3, num_classes=vocab_size) # not working\n",
    "in_sequence = torch.randn(10, 50)\n",
    "print(in_sequence.shape)\n",
    "\n",
    "embedding = WordEmbedding(vocab_size, embed_dim=5)\n",
    "out = embedding(in_sequence)\n",
    "print(out.shape)"
   ]
  }
 ],
 "metadata": {
  "interpreter": {
   "hash": "f34de0f435674caffdc1d4216263864aedf146a5b2958ac7bb70b3bd69115020"
  },
  "kernelspec": {
   "display_name": "Python 3.9.4 ('pytorch': venv)",
   "language": "python",
   "name": "python3"
  },
  "language_info": {
   "codemirror_mode": {
    "name": "ipython",
    "version": 3
   },
   "file_extension": ".py",
   "mimetype": "text/x-python",
   "name": "python",
   "nbconvert_exporter": "python",
   "pygments_lexer": "ipython3",
   "version": "3.9.4"
  },
  "orig_nbformat": 4
 },
 "nbformat": 4,
 "nbformat_minor": 2
}
