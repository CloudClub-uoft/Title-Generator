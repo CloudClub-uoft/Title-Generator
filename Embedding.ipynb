{
 "cells": [
  {
   "cell_type": "code",
   "execution_count": 2,
   "metadata": {},
   "outputs": [],
   "source": [
    "import torch\n",
    "import torch.nn as nn"
   ]
  },
  {
   "cell_type": "code",
   "execution_count": 16,
   "metadata": {},
   "outputs": [],
   "source": [
    "class WordEmbedding(nn.Module):\n",
    "    def __init__(self, vocab_size, embed_dim=512):\n",
    "        super().__init__()\n",
    "        # embed_dim: embedding dimension (usually 1024 or 512)\n",
    "        self.embed_dim = embed_dim\n",
    "        self.embed_matrix = nn.Embedding(vocab_size, embed_dim)\n",
    "        # seq len x vocab_size, vocab_size x embed_dim\n",
    "        # embedding matrix dimensions: number of words in vocab x embed_dim (usually 1024 or 512)\n",
    "\n",
    "    def forward(self, x):\n",
    "        # x: embedding tensor (batch_size by seq_len by vocab_size)\n",
    "        return self.embed_matrix(x)\n"
   ]
  },
  {
   "cell_type": "code",
   "execution_count": 19,
   "metadata": {},
   "outputs": [
    {
     "name": "stdout",
     "output_type": "stream",
     "text": [
      "torch.Size([2, 5, 5])\n"
     ]
    }
   ],
   "source": [
    "in_sequence = torch.LongTensor([[0,5,1,4,7],[3,2,45,11,2]]) # batch size by num of words\n",
    "vocab_size = 50 # 50 words in dictionary\n",
    "embedding = WordEmbedding(vocab_size, embed_dim=5)\n",
    "out = embedding(in_sequence)\n",
    "print(out.shape)"
   ]
  }
 ],
 "metadata": {
  "interpreter": {
   "hash": "f34de0f435674caffdc1d4216263864aedf146a5b2958ac7bb70b3bd69115020"
  },
  "kernelspec": {
   "display_name": "Python 3.9.4 ('pytorch': venv)",
   "language": "python",
   "name": "python3"
  },
  "language_info": {
   "codemirror_mode": {
    "name": "ipython",
    "version": 3
   },
   "file_extension": ".py",
   "mimetype": "text/x-python",
   "name": "python",
   "nbconvert_exporter": "python",
   "pygments_lexer": "ipython3",
   "version": "3.9.4"
  },
  "orig_nbformat": 4
 },
 "nbformat": 4,
 "nbformat_minor": 2
}
