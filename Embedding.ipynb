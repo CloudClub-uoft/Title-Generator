{
 "cells": [
  {
   "cell_type": "code",
   "execution_count": 1,
   "metadata": {},
   "outputs": [],
   "source": [
    "import torch\n",
    "import torch.nn as nn\n",
    "import torch.nn.functional as F\n",
    "import numpy as np\n",
    "from math import sqrt"
   ]
  },
  {
   "cell_type": "code",
   "execution_count": null,
   "metadata": {},
   "outputs": [],
   "source": [
    "class Embedding(nn.Module):\n",
    "    def __init__(self, seq_len, embed_dim):\n",
    "        super().__init__()\n",
    "        # embed_dim: embedding dimension\n",
    "        # seq_len: input sequence length\n",
    "        self.dim = embed_dim\n",
    "        self.seq_len = seq_len\n",
    "        self.embed_mat = nn.Embedding(seq_len, embed_dim)\n",
    "\n",
    "    def forward(self, x):\n",
    "        # x: embedding tensor (batch_size by seq_len by num_of_words)\n",
    "        return self.embed_mat(x) * sqrt(self.embed_dim)\n"
   ]
  }
 ],
 "metadata": {
  "interpreter": {
   "hash": "f34de0f435674caffdc1d4216263864aedf146a5b2958ac7bb70b3bd69115020"
  },
  "kernelspec": {
   "display_name": "Python 3.9.4 ('pytorch': venv)",
   "language": "python",
   "name": "python3"
  },
  "language_info": {
   "codemirror_mode": {
    "name": "ipython",
    "version": 3
   },
   "file_extension": ".py",
   "mimetype": "text/x-python",
   "name": "python",
   "nbconvert_exporter": "python",
   "pygments_lexer": "ipython3",
   "version": "3.9.4"
  },
  "orig_nbformat": 4
 },
 "nbformat": 4,
 "nbformat_minor": 2
}
