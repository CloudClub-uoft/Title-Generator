{
 "cells": [
  {
   "cell_type": "code",
   "execution_count": 4,
   "metadata": {},
   "outputs": [],
   "source": [
    "import torch\n",
    "import torch.nn as nn\n",
    "import torch.nn.functional as F"
   ]
  },
  {
   "cell_type": "code",
   "execution_count": 7,
   "metadata": {},
   "outputs": [],
   "source": [
    "class WordEmbedding(nn.Module):\n",
    "    def __init__(self, vocab_size, embed_dim=512):\n",
    "        super().__init__()\n",
    "        # embed_dim: embedding dimension (usually 1024 or 512)\n",
    "        self.embed_dim = embed_dim\n",
    "        self.embed_matrix = torch.empty([vocab_size, embed_dim])\n",
    "\n",
    "        nn.init.xavier_normal_(self.embed_matrix)\n",
    "        self.embed_matrix = nn.Parameter(self.embed_matrix)\n",
    "        self.embed_matrix = self.embed_matrix.to(torch.float)\n",
    "        # seq len x vocab_size, vocab_size x embed_dim\n",
    "        # embedding matrix dimensions: number of words in vocab x embed_dim (usually 1024 or 512)\n",
    "\n",
    "    def forward(self, x):\n",
    "        # x: embedding tensor (batch_size by seq_len by vocab_size)\n",
    "        return torch.matmul(x, self.embed_matrix)\n"
   ]
  },
  {
   "cell_type": "code",
   "execution_count": 10,
   "metadata": {},
   "outputs": [
    {
     "name": "stdout",
     "output_type": "stream",
     "text": [
      "torch.Size([10, 5])\n"
     ]
    }
   ],
   "source": [
    "vocab_size = 50 # 50 words in dictionary\n",
    "in_sequence = F.one_hot(torch.arange(0, 10) % 3, num_classes=vocab_size) # not working\n",
    "in_sequence = in_sequence.to(torch.float)\n",
    "\n",
    "embedding = WordEmbedding(vocab_size, embed_dim=5)\n",
    "out = embedding(in_sequence)\n",
    "print(out.shape)"
   ]
  }
 ],
 "metadata": {
  "kernelspec": {
   "display_name": "Python 3.9.13 ('simSPI': conda)",
   "language": "python",
   "name": "python3"
  },
  "language_info": {
   "codemirror_mode": {
    "name": "ipython",
    "version": 3
   },
   "file_extension": ".py",
   "mimetype": "text/x-python",
   "name": "python",
   "nbconvert_exporter": "python",
   "pygments_lexer": "ipython3",
   "version": "3.9.13"
  },
  "orig_nbformat": 4,
  "vscode": {
   "interpreter": {
    "hash": "a744988f01885a973378c71ef6b5739849edfa4e71520f100967c16135f09512"
   }
  }
 },
 "nbformat": 4,
 "nbformat_minor": 2
}
